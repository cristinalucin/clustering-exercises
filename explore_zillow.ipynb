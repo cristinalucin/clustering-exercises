{
 "cells": [
  {
   "cell_type": "code",
   "execution_count": 1,
   "id": "423d42ef",
   "metadata": {},
   "outputs": [],
   "source": [
    "# ignore warnings\n",
    "import warnings\n",
    "warnings.filterwarnings(\"ignore\")\n",
    "\n",
    "# Wrangling\n",
    "import pandas as pd\n",
    "import numpy as np\n",
    "from sklearn.model_selection import train_test_split\n",
    "\n",
    "# Statistical Tests\n",
    "import scipy.stats as stats\n",
    "\n",
    "# Visualizing\n",
    "import matplotlib.pyplot as plt\n",
    "from matplotlib import cm\n",
    "import seaborn as sns\n",
    "from sklearn.model_selection import learning_curve\n",
    "\n",
    "pd.options.display.float_format = '{:20,.2f}'.format\n",
    "\n",
    "#my imports\n",
    "import env\n",
    "import os\n",
    "import wrangle as w\n",
    "import acquire"
   ]
  },
  {
   "cell_type": "code",
   "execution_count": 2,
   "id": "5a094167",
   "metadata": {},
   "outputs": [],
   "source": [
    "#Get my data\n",
    "df = w.acquire_zillow()"
   ]
  },
  {
   "cell_type": "markdown",
   "id": "5a4c5b56",
   "metadata": {},
   "source": [
    "### Ask at least 5 questions about the data, keeping in mind that your target variable is logerror. e.g. Is logerror significantly different for properties in LA County vs Orange County vs Ventura County?"
   ]
  },
  {
   "cell_type": "code",
   "execution_count": 3,
   "id": "3c3c00da",
   "metadata": {},
   "outputs": [
    {
     "name": "stdout",
     "output_type": "stream",
     "text": [
      "<class 'pandas.core.frame.DataFrame'>\n",
      "RangeIndex: 52441 entries, 0 to 52440\n",
      "Data columns (total 69 columns):\n",
      " #   Column                        Non-Null Count  Dtype  \n",
      "---  ------                        --------------  -----  \n",
      " 0   parcelid                      52441 non-null  int64  \n",
      " 1   propertylandusetypeid         52441 non-null  float64\n",
      " 2   typeconstructiontypeid        76 non-null     float64\n",
      " 3   storytypeid                   47 non-null     float64\n",
      " 4   airconditioningtypeid         13638 non-null  float64\n",
      " 5   architecturalstyletypeid      70 non-null     float64\n",
      " 6   buildingclasstypeid           0 non-null      float64\n",
      " 7   heatingorsystemtypeid         33935 non-null  float64\n",
      " 8   id                            52441 non-null  int64  \n",
      " 9   basementsqft                  47 non-null     float64\n",
      " 10  bathroomcnt                   52441 non-null  float64\n",
      " 11  bedroomcnt                    52441 non-null  float64\n",
      " 12  buildingqualitytypeid         33740 non-null  float64\n",
      " 13  calculatedbathnbr             52304 non-null  float64\n",
      " 14  decktypeid                    389 non-null    float64\n",
      " 15  finishedfloor1squarefeet      4381 non-null   float64\n",
      " 16  calculatedfinishedsquarefeet  52359 non-null  float64\n",
      " 17  finishedsquarefeet12          52194 non-null  float64\n",
      " 18  finishedsquarefeet13          0 non-null      float64\n",
      " 19  finishedsquarefeet15          0 non-null      float64\n",
      " 20  finishedsquarefeet50          4381 non-null   float64\n",
      " 21  finishedsquarefeet6           165 non-null    float64\n",
      " 22  fips                          52441 non-null  float64\n",
      " 23  fireplacecnt                  7243 non-null   float64\n",
      " 24  fullbathcnt                   52304 non-null  float64\n",
      " 25  garagecarcnt                  18015 non-null  float64\n",
      " 26  garagetotalsqft               18015 non-null  float64\n",
      " 27  hashottuborspa                1515 non-null   float64\n",
      " 28  latitude                      52441 non-null  float64\n",
      " 29  longitude                     52441 non-null  float64\n",
      " 30  lotsizesquarefeet             52072 non-null  float64\n",
      " 31  poolcnt                       11096 non-null  float64\n",
      " 32  poolsizesum                   867 non-null    float64\n",
      " 33  pooltypeid10                  444 non-null    float64\n",
      " 34  pooltypeid2                   1071 non-null   float64\n",
      " 35  pooltypeid7                   10009 non-null  float64\n",
      " 36  propertycountylandusecode     52441 non-null  object \n",
      " 37  propertyzoningdesc            33848 non-null  object \n",
      " 38  rawcensustractandblock        52441 non-null  float64\n",
      " 39  regionidcity                  51404 non-null  float64\n",
      " 40  regionidcounty                52441 non-null  float64\n",
      " 41  regionidneighborhood          19033 non-null  float64\n",
      " 42  regionidzip                   52415 non-null  float64\n",
      " 43  roomcnt                       52441 non-null  float64\n",
      " 44  threequarterbathnbr           6724 non-null   float64\n",
      " 45  unitcnt                       33847 non-null  float64\n",
      " 46  yardbuildingsqft17            1937 non-null   float64\n",
      " 47  yardbuildingsqft26            63 non-null     float64\n",
      " 48  yearbuilt                     52325 non-null  float64\n",
      " 49  numberofstories               14561 non-null  float64\n",
      " 50  fireplaceflag                 81 non-null     float64\n",
      " 51  structuretaxvaluedollarcnt    52357 non-null  float64\n",
      " 52  taxvaluedollarcnt             52440 non-null  float64\n",
      " 53  assessmentyear                52441 non-null  float64\n",
      " 54  landtaxvaluedollarcnt         52440 non-null  float64\n",
      " 55  taxamount                     52437 non-null  float64\n",
      " 56  taxdelinquencyflag            2079 non-null   object \n",
      " 57  taxdelinquencyyear            2079 non-null   float64\n",
      " 58  censustractandblock           52318 non-null  float64\n",
      " 59  id.1                          52441 non-null  int64  \n",
      " 60  logerror                      52441 non-null  float64\n",
      " 61  transactiondate               52441 non-null  object \n",
      " 62  heatingorsystemdesc           33935 non-null  object \n",
      " 63  buildingclassdesc             0 non-null      float64\n",
      " 64  architecturalstyledesc        70 non-null     object \n",
      " 65  airconditioningdesc           13638 non-null  object \n",
      " 66  storydesc                     47 non-null     object \n",
      " 67  typeconstructiondesc          76 non-null     object \n",
      " 68  propertylandusedesc           52441 non-null  object \n",
      "dtypes: float64(56), int64(3), object(10)\n",
      "memory usage: 27.6+ MB\n"
     ]
    }
   ],
   "source": [
    "df.info()"
   ]
  },
  {
   "cell_type": "code",
   "execution_count": 4,
   "id": "1893d273",
   "metadata": {},
   "outputs": [],
   "source": [
    "## Taking this out of my prepare so I dont lose too much data\n",
    "#df = df.drop(index=df[df.regionidzip == df.regionidzip.max()].index.tolist())"
   ]
  },
  {
   "cell_type": "code",
   "execution_count": 5,
   "id": "937c7336",
   "metadata": {},
   "outputs": [],
   "source": [
    "df = w.prepare_zillow(df)"
   ]
  },
  {
   "cell_type": "code",
   "execution_count": 6,
   "id": "fc3126ac",
   "metadata": {},
   "outputs": [],
   "source": [
    "#df = w.handle_missing_values(df)"
   ]
  },
  {
   "cell_type": "code",
   "execution_count": 7,
   "id": "87481771",
   "metadata": {},
   "outputs": [
    {
     "name": "stdout",
     "output_type": "stream",
     "text": [
      "<class 'pandas.core.frame.DataFrame'>\n",
      "Int64Index: 50709 entries, 0 to 52440\n",
      "Data columns (total 42 columns):\n",
      " #   Column                        Non-Null Count  Dtype  \n",
      "---  ------                        --------------  -----  \n",
      " 0   parcelid                      50709 non-null  int64  \n",
      " 1   propertylandusetypeid         50709 non-null  float64\n",
      " 2   basementsqft                  50709 non-null  float64\n",
      " 3   bathroomcnt                   50709 non-null  float64\n",
      " 4   bedroomcnt                    50709 non-null  float64\n",
      " 5   calculatedbathnbr             50709 non-null  float64\n",
      " 6   decktypeid                    50709 non-null  float64\n",
      " 7   calculatedfinishedsquarefeet  50709 non-null  float64\n",
      " 8   finishedsquarefeet12          50709 non-null  float64\n",
      " 9   fips                          50709 non-null  float64\n",
      " 10  fireplacecnt                  50709 non-null  float64\n",
      " 11  fullbathcnt                   50709 non-null  float64\n",
      " 12  hashottuborspa                50709 non-null  float64\n",
      " 13  latitude                      50709 non-null  float64\n",
      " 14  longitude                     50709 non-null  float64\n",
      " 15  lotsizesquarefeet             50709 non-null  float64\n",
      " 16  poolcnt                       50709 non-null  float64\n",
      " 17  pooltypeid10                  50709 non-null  float64\n",
      " 18  pooltypeid2                   50709 non-null  float64\n",
      " 19  pooltypeid7                   50709 non-null  float64\n",
      " 20  propertycountylandusecode     50709 non-null  object \n",
      " 21  rawcensustractandblock        50709 non-null  float64\n",
      " 22  regionidcity                  50709 non-null  float64\n",
      " 23  regionidcounty                50709 non-null  float64\n",
      " 24  regionidzip                   50709 non-null  float64\n",
      " 25  roomcnt                       50709 non-null  float64\n",
      " 26  threequarterbathnbr           50709 non-null  float64\n",
      " 27  yearbuilt                     50709 non-null  float64\n",
      " 28  fireplaceflag                 50709 non-null  float64\n",
      " 29  structuretaxvaluedollarcnt    50709 non-null  float64\n",
      " 30  taxvaluedollarcnt             50709 non-null  float64\n",
      " 31  assessmentyear                50709 non-null  float64\n",
      " 32  landtaxvaluedollarcnt         50709 non-null  float64\n",
      " 33  taxamount                     50709 non-null  float64\n",
      " 34  taxdelinquencyflag            50709 non-null  object \n",
      " 35  taxdelinquencyyear            50709 non-null  float64\n",
      " 36  censustractandblock           50709 non-null  float64\n",
      " 37  logerror                      50709 non-null  float64\n",
      " 38  transactiondate               50709 non-null  object \n",
      " 39  typeconstructiondesc          50709 non-null  object \n",
      " 40  propertylandusedesc           50709 non-null  object \n",
      " 41  county                        50709 non-null  object \n",
      "dtypes: float64(35), int64(1), object(6)\n",
      "memory usage: 16.6+ MB\n"
     ]
    }
   ],
   "source": [
    "df.info()"
   ]
  },
  {
   "cell_type": "code",
   "execution_count": 8,
   "id": "96d9a290",
   "metadata": {},
   "outputs": [],
   "source": [
    "#Split the data\n",
    "train, validate, test = w.train_validate_test_split(df)"
   ]
  },
  {
   "cell_type": "code",
   "execution_count": 9,
   "id": "dcec7c7f",
   "metadata": {},
   "outputs": [
    {
     "data": {
      "text/html": [
       "<div>\n",
       "<style scoped>\n",
       "    .dataframe tbody tr th:only-of-type {\n",
       "        vertical-align: middle;\n",
       "    }\n",
       "\n",
       "    .dataframe tbody tr th {\n",
       "        vertical-align: top;\n",
       "    }\n",
       "\n",
       "    .dataframe thead th {\n",
       "        text-align: right;\n",
       "    }\n",
       "</style>\n",
       "<table border=\"1\" class=\"dataframe\">\n",
       "  <thead>\n",
       "    <tr style=\"text-align: right;\">\n",
       "      <th></th>\n",
       "      <th>parcelid</th>\n",
       "      <th>propertylandusetypeid</th>\n",
       "      <th>basementsqft</th>\n",
       "      <th>bathroomcnt</th>\n",
       "      <th>bedroomcnt</th>\n",
       "      <th>calculatedbathnbr</th>\n",
       "      <th>decktypeid</th>\n",
       "      <th>calculatedfinishedsquarefeet</th>\n",
       "      <th>finishedsquarefeet12</th>\n",
       "      <th>fips</th>\n",
       "      <th>...</th>\n",
       "      <th>landtaxvaluedollarcnt</th>\n",
       "      <th>taxamount</th>\n",
       "      <th>taxdelinquencyflag</th>\n",
       "      <th>taxdelinquencyyear</th>\n",
       "      <th>censustractandblock</th>\n",
       "      <th>logerror</th>\n",
       "      <th>transactiondate</th>\n",
       "      <th>typeconstructiondesc</th>\n",
       "      <th>propertylandusedesc</th>\n",
       "      <th>county</th>\n",
       "    </tr>\n",
       "  </thead>\n",
       "  <tbody>\n",
       "    <tr>\n",
       "      <th>23412</th>\n",
       "      <td>11362096</td>\n",
       "      <td>261.00</td>\n",
       "      <td>0.00</td>\n",
       "      <td>2.00</td>\n",
       "      <td>3.00</td>\n",
       "      <td>2.00</td>\n",
       "      <td>0.00</td>\n",
       "      <td>1,395.00</td>\n",
       "      <td>1,395.00</td>\n",
       "      <td>6,037.00</td>\n",
       "      <td>...</td>\n",
       "      <td>106,739.00</td>\n",
       "      <td>2,543.78</td>\n",
       "      <td>N</td>\n",
       "      <td>99,999.00</td>\n",
       "      <td>60,379,201,061,067.00</td>\n",
       "      <td>-0.00</td>\n",
       "      <td>2017-05-10</td>\n",
       "      <td>None</td>\n",
       "      <td>Single Family Residential</td>\n",
       "      <td>Los Angeles</td>\n",
       "    </tr>\n",
       "    <tr>\n",
       "      <th>42052</th>\n",
       "      <td>12956704</td>\n",
       "      <td>261.00</td>\n",
       "      <td>0.00</td>\n",
       "      <td>2.00</td>\n",
       "      <td>2.00</td>\n",
       "      <td>2.00</td>\n",
       "      <td>0.00</td>\n",
       "      <td>1,613.00</td>\n",
       "      <td>1,613.00</td>\n",
       "      <td>6,037.00</td>\n",
       "      <td>...</td>\n",
       "      <td>191,541.00</td>\n",
       "      <td>4,313.70</td>\n",
       "      <td>N</td>\n",
       "      <td>99,999.00</td>\n",
       "      <td>60,374,303,013,000.00</td>\n",
       "      <td>0.02</td>\n",
       "      <td>2017-07-28</td>\n",
       "      <td>None</td>\n",
       "      <td>Single Family Residential</td>\n",
       "      <td>Los Angeles</td>\n",
       "    </tr>\n",
       "    <tr>\n",
       "      <th>33235</th>\n",
       "      <td>11346275</td>\n",
       "      <td>261.00</td>\n",
       "      <td>0.00</td>\n",
       "      <td>3.00</td>\n",
       "      <td>5.00</td>\n",
       "      <td>3.00</td>\n",
       "      <td>0.00</td>\n",
       "      <td>3,216.00</td>\n",
       "      <td>3,216.00</td>\n",
       "      <td>6,037.00</td>\n",
       "      <td>...</td>\n",
       "      <td>218,079.00</td>\n",
       "      <td>7,728.70</td>\n",
       "      <td>N</td>\n",
       "      <td>99,999.00</td>\n",
       "      <td>60,379,200,152,010.00</td>\n",
       "      <td>0.02</td>\n",
       "      <td>2017-06-22</td>\n",
       "      <td>None</td>\n",
       "      <td>Single Family Residential</td>\n",
       "      <td>Los Angeles</td>\n",
       "    </tr>\n",
       "    <tr>\n",
       "      <th>14291</th>\n",
       "      <td>14051806</td>\n",
       "      <td>261.00</td>\n",
       "      <td>0.00</td>\n",
       "      <td>3.00</td>\n",
       "      <td>5.00</td>\n",
       "      <td>3.00</td>\n",
       "      <td>0.00</td>\n",
       "      <td>1,883.00</td>\n",
       "      <td>1,883.00</td>\n",
       "      <td>6,059.00</td>\n",
       "      <td>...</td>\n",
       "      <td>267,404.00</td>\n",
       "      <td>4,577.40</td>\n",
       "      <td>N</td>\n",
       "      <td>99,999.00</td>\n",
       "      <td>60,590,992,441,012.00</td>\n",
       "      <td>-0.09</td>\n",
       "      <td>2017-03-29</td>\n",
       "      <td>None</td>\n",
       "      <td>Single Family Residential</td>\n",
       "      <td>Orange</td>\n",
       "    </tr>\n",
       "    <tr>\n",
       "      <th>12549</th>\n",
       "      <td>11927636</td>\n",
       "      <td>261.00</td>\n",
       "      <td>0.00</td>\n",
       "      <td>2.00</td>\n",
       "      <td>3.00</td>\n",
       "      <td>2.00</td>\n",
       "      <td>0.00</td>\n",
       "      <td>1,272.00</td>\n",
       "      <td>1,272.00</td>\n",
       "      <td>6,037.00</td>\n",
       "      <td>...</td>\n",
       "      <td>394,560.00</td>\n",
       "      <td>6,523.91</td>\n",
       "      <td>N</td>\n",
       "      <td>99,999.00</td>\n",
       "      <td>60,374,319,003,001.00</td>\n",
       "      <td>0.01</td>\n",
       "      <td>2017-03-21</td>\n",
       "      <td>None</td>\n",
       "      <td>Single Family Residential</td>\n",
       "      <td>Los Angeles</td>\n",
       "    </tr>\n",
       "  </tbody>\n",
       "</table>\n",
       "<p>5 rows × 42 columns</p>\n",
       "</div>"
      ],
      "text/plain": [
       "       parcelid  propertylandusetypeid         basementsqft  \\\n",
       "23412  11362096                 261.00                 0.00   \n",
       "42052  12956704                 261.00                 0.00   \n",
       "33235  11346275                 261.00                 0.00   \n",
       "14291  14051806                 261.00                 0.00   \n",
       "12549  11927636                 261.00                 0.00   \n",
       "\n",
       "               bathroomcnt           bedroomcnt    calculatedbathnbr  \\\n",
       "23412                 2.00                 3.00                 2.00   \n",
       "42052                 2.00                 2.00                 2.00   \n",
       "33235                 3.00                 5.00                 3.00   \n",
       "14291                 3.00                 5.00                 3.00   \n",
       "12549                 2.00                 3.00                 2.00   \n",
       "\n",
       "                decktypeid  calculatedfinishedsquarefeet  \\\n",
       "23412                 0.00                      1,395.00   \n",
       "42052                 0.00                      1,613.00   \n",
       "33235                 0.00                      3,216.00   \n",
       "14291                 0.00                      1,883.00   \n",
       "12549                 0.00                      1,272.00   \n",
       "\n",
       "       finishedsquarefeet12                 fips  ...  landtaxvaluedollarcnt  \\\n",
       "23412              1,395.00             6,037.00  ...             106,739.00   \n",
       "42052              1,613.00             6,037.00  ...             191,541.00   \n",
       "33235              3,216.00             6,037.00  ...             218,079.00   \n",
       "14291              1,883.00             6,059.00  ...             267,404.00   \n",
       "12549              1,272.00             6,037.00  ...             394,560.00   \n",
       "\n",
       "                 taxamount  taxdelinquencyflag   taxdelinquencyyear  \\\n",
       "23412             2,543.78                   N            99,999.00   \n",
       "42052             4,313.70                   N            99,999.00   \n",
       "33235             7,728.70                   N            99,999.00   \n",
       "14291             4,577.40                   N            99,999.00   \n",
       "12549             6,523.91                   N            99,999.00   \n",
       "\n",
       "        censustractandblock             logerror  transactiondate  \\\n",
       "23412 60,379,201,061,067.00                -0.00       2017-05-10   \n",
       "42052 60,374,303,013,000.00                 0.02       2017-07-28   \n",
       "33235 60,379,200,152,010.00                 0.02       2017-06-22   \n",
       "14291 60,590,992,441,012.00                -0.09       2017-03-29   \n",
       "12549 60,374,319,003,001.00                 0.01       2017-03-21   \n",
       "\n",
       "       typeconstructiondesc        propertylandusedesc       county  \n",
       "23412                  None  Single Family Residential  Los Angeles  \n",
       "42052                  None  Single Family Residential  Los Angeles  \n",
       "33235                  None  Single Family Residential  Los Angeles  \n",
       "14291                  None  Single Family Residential       Orange  \n",
       "12549                  None  Single Family Residential  Los Angeles  \n",
       "\n",
       "[5 rows x 42 columns]"
      ]
     },
     "execution_count": 9,
     "metadata": {},
     "output_type": "execute_result"
    }
   ],
   "source": [
    "train.head()"
   ]
  },
  {
   "cell_type": "code",
   "execution_count": 10,
   "id": "5a0ad874",
   "metadata": {},
   "outputs": [
    {
     "data": {
      "text/plain": [
       "(array([1.0000e+00, 0.0000e+00, 1.9000e+01, 9.0000e+00, 1.1600e+02,\n",
       "        3.4189e+04, 1.0430e+03, 6.0000e+01, 5.1000e+01, 6.0000e+00]),\n",
       " array([-4.453964  , -3.66911319, -2.88426239, -2.09941158, -1.31456077,\n",
       "        -0.52970997,  0.25514084,  1.03999165,  1.82484245,  2.60969326,\n",
       "         3.39454407]),\n",
       " <BarContainer object of 10 artists>)"
      ]
     },
     "execution_count": 10,
     "metadata": {},
     "output_type": "execute_result"
    },
    {
     "data": {
      "image/png": "[encoded data removed]",
      "text/plain": [
       "<Figure size 432x288 with 1 Axes>"
      ]
     },
     "metadata": {
      "needs_background": "light"
     },
     "output_type": "display_data"
    }
   ],
   "source": [
    "plt.hist(train['logerror'])"
   ]
  },
  {
   "cell_type": "markdown",
   "id": "d9a38b22",
   "metadata": {},
   "source": [
    "### Question 1: Does location have a relationship with log error?"
   ]
  },
  {
   "cell_type": "code",
   "execution_count": 11,
   "id": "da6f9e20",
   "metadata": {},
   "outputs": [
    {
     "data": {
      "text/plain": [
       "Los Angeles    23017\n",
       "Orange          9462\n",
       "Ventura         3015\n",
       "Name: county, dtype: int64"
      ]
     },
     "execution_count": 11,
     "metadata": {},
     "output_type": "execute_result"
    }
   ],
   "source": [
    "train.county.value_counts()"
   ]
  },
  {
   "cell_type": "code",
   "execution_count": 12,
   "id": "94281203",
   "metadata": {},
   "outputs": [],
   "source": [
    "LA = train[train.county == 'Los Angeles']\n",
    "Orange = train[train.county == 'Orange']\n",
    "Ventura = train[train.county == 'Ventura']"
   ]
  },
  {
   "cell_type": "code",
   "execution_count": 17,
   "id": "cfba5cc0",
   "metadata": {},
   "outputs": [
    {
     "name": "stdout",
     "output_type": "stream",
     "text": [
      "LA Log Error mean:0.01579096118410842\n",
      "Orange Log Error mean:0.025162274725869117\n",
      "Ventura Log Error mean:0.016092555362402595\n"
     ]
    }
   ],
   "source": [
    "print(f'LA Log Error mean:{LA.logerror.mean()}')\n",
    "print(f'Orange Log Error mean:{Orange.logerror.mean()}')\n",
    "print(f'Ventura Log Error mean:{Ventura.logerror.mean()}')"
   ]
  },
  {
   "cell_type": "code",
   "execution_count": 19,
   "id": "271798a5",
   "metadata": {},
   "outputs": [
    {
     "data": {
      "text/plain": [
       "(24.740788821910424, 1.8310288100934043e-11)"
      ]
     },
     "execution_count": 19,
     "metadata": {},
     "output_type": "execute_result"
    }
   ],
   "source": [
    "#Checking variance before running test\n",
    "from scipy.stats import levene\n",
    "stat, p = levene(LA.logerror, Orange.logerror, Ventura.logerror)\n",
    "stat, p"
   ]
  },
  {
   "cell_type": "code",
   "execution_count": 23,
   "id": "4df11bdf",
   "metadata": {},
   "outputs": [
    {
     "data": {
      "text/plain": [
       "(10.040261801434172, 4.373234705515068e-05)"
      ]
     },
     "execution_count": 23,
     "metadata": {},
     "output_type": "execute_result"
    }
   ],
   "source": [
    "#Variances are different, now running a t-test anova\n",
    "f, p = stats.f_oneway(LA.logerror, Orange.logerror, Ventura.logerror)\n",
    "f, p"
   ]
  },
  {
   "cell_type": "markdown",
   "id": "3d5a9a75",
   "metadata": {},
   "source": [
    "### The difference in log error with counties is significant, with Orange county having the highest amount of log error and LA county having the lowest"
   ]
  },
  {
   "cell_type": "code",
   "execution_count": 27,
   "id": "fcbae7a7",
   "metadata": {},
   "outputs": [
    {
     "data": {
      "image/png": "[encoded data removed]",
      "text/plain": [
       "<Figure size 432x288 with 1 Axes>"
      ]
     },
     "metadata": {
      "needs_background": "light"
     },
     "output_type": "display_data"
    }
   ],
   "source": [
    "sns.boxplot(x=train.county, y=train.logerror)\n",
    "plt.title(\"Difference in log error by county\")\n",
    "plt.show()"
   ]
  },
  {
   "cell_type": "code",
   "execution_count": 28,
   "id": "d620601b",
   "metadata": {},
   "outputs": [
    {
     "data": {
      "text/plain": [
       "<AxesSubplot:>"
      ]
     },
     "execution_count": 28,
     "metadata": {},
     "output_type": "execute_result"
    },
    {
     "data": {
      "image/png": "[encoded data removed]",
      "text/plain": [
       "<Figure size 432x288 with 1 Axes>"
      ]
     },
     "metadata": {
      "needs_background": "light"
     },
     "output_type": "display_data"
    }
   ],
   "source": [
    "sns.boxplot()"
   ]
  },
  {
   "cell_type": "code",
   "execution_count": null,
   "id": "2d4bacc2",
   "metadata": {},
   "outputs": [],
   "source": []
  }
 ],
 "metadata": {
  "kernelspec": {
   "display_name": "Python 3 (ipykernel)",
   "language": "python",
   "name": "python3"
  },
  "language_info": {
   "codemirror_mode": {
    "name": "ipython",
    "version": 3
   },
   "file_extension": ".py",
   "mimetype": "text/x-python",
   "name": "python",
   "nbconvert_exporter": "python",
   "pygments_lexer": "ipython3",
   "version": "3.9.12"
  }
 },
 "nbformat": 4,
 "nbformat_minor": 5
}
